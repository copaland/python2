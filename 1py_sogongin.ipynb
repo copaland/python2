{
  "nbformat": 4,
  "nbformat_minor": 0,
  "metadata": {
    "colab": {
      "provenance": [],
      "toc_visible": true,
      "authorship_tag": "ABX9TyPkpZIhcscSiZuOM+h5rg5P",
      "include_colab_link": true
    },
    "kernelspec": {
      "name": "python3",
      "display_name": "Python 3"
    },
    "language_info": {
      "name": "python"
    }
  },
  "cells": [
    {
      "cell_type": "markdown",
      "metadata": {
        "id": "view-in-github",
        "colab_type": "text"
      },
      "source": [
        "<a href=\"https://colab.research.google.com/github/copaland/python2/blob/main/1py_sogongin.ipynb\" target=\"_parent\"><img src=\"https://colab.research.google.com/assets/colab-badge.svg\" alt=\"Open In Colab\"/></a>"
      ]
    },
    {
      "cell_type": "markdown",
      "source": [
        "# 1. 파이썬 기초"
      ],
      "metadata": {
        "id": "kINNYgPrOTbz"
      }
    },
    {
      "cell_type": "markdown",
      "source": [],
      "metadata": {
        "id": "rNW25-hvey33"
      }
    },
    {
      "cell_type": "markdown",
      "source": [
        "## 가. 변수"
      ],
      "metadata": {
        "id": "YuDC1RvLOzgO"
      }
    },
    {
      "cell_type": "code",
      "source": [
        "print(\"안녕하세요\")  # 주석\n",
        "# 주석"
      ],
      "metadata": {
        "colab": {
          "base_uri": "https://localhost:8080/"
        },
        "id": "v8zKl6T2OYTz",
        "outputId": "46f88e54-14c8-418f-cda9-365a96a72872"
      },
      "execution_count": null,
      "outputs": [
        {
          "output_type": "stream",
          "name": "stdout",
          "text": [
            "안녕하세요\n"
          ]
        }
      ]
    },
    {
      "cell_type": "code",
      "source": [
        "a = 3\n",
        "b = 4\n",
        "print(a,b)\n",
        "print(a+b)\n",
        "a,b = b,a\n",
        "print(a,b)"
      ],
      "metadata": {
        "colab": {
          "base_uri": "https://localhost:8080/"
        },
        "id": "Db04OhUNO4f3",
        "outputId": "fa7f3400-fc10-468e-92fd-533c7fe6915d"
      },
      "execution_count": null,
      "outputs": [
        {
          "output_type": "stream",
          "name": "stdout",
          "text": [
            "3 4\n",
            "7\n",
            "4 3\n"
          ]
        }
      ]
    },
    {
      "cell_type": "markdown",
      "source": [
        "isReady  \n",
        "is_ready  "
      ],
      "metadata": {
        "id": "XYjgqFCOQSPB"
      }
    },
    {
      "cell_type": "code",
      "source": [
        "a = \"대한\"\n",
        "b = '민국'\n",
        "c = a + b\n",
        "print(c)"
      ],
      "metadata": {
        "colab": {
          "base_uri": "https://localhost:8080/"
        },
        "id": "R10oWp9iQrfs",
        "outputId": "cbb775b3-2676-46a5-9394-c623d95a0b36"
      },
      "execution_count": null,
      "outputs": [
        {
          "output_type": "stream",
          "name": "stdout",
          "text": [
            "대한민국\n"
          ]
        }
      ]
    },
    {
      "cell_type": "code",
      "source": [
        "a =  \"\"\"안녕\n",
        "하세요\n",
        "만나서 반갑습니다\"\"\"\n",
        "print(a)"
      ],
      "metadata": {
        "colab": {
          "base_uri": "https://localhost:8080/"
        },
        "id": "RHjaZI7uRMsw",
        "outputId": "181eb64c-50a0-4bc7-e530-c0106e2b707f"
      },
      "execution_count": null,
      "outputs": [
        {
          "output_type": "stream",
          "name": "stdout",
          "text": [
            "안녕\n",
            "하세요\n",
            "만나서 반갑습니다\n"
          ]
        }
      ]
    },
    {
      "cell_type": "markdown",
      "source": [
        "## 가감승제"
      ],
      "metadata": {
        "id": "tjy8LFLzTPDX"
      }
    },
    {
      "cell_type": "code",
      "source": [
        "num1 = 100\n",
        "num2 = 200\n",
        "result = num1 + num2\n",
        "print(num1, \"+\", num2, \"=\", result)"
      ],
      "metadata": {
        "colab": {
          "base_uri": "https://localhost:8080/"
        },
        "id": "ocKKd3eNRh7T",
        "outputId": "33fac191-1750-4f04-c0c8-8c3a7e7bf3d1"
      },
      "execution_count": null,
      "outputs": [
        {
          "output_type": "stream",
          "name": "stdout",
          "text": [
            "100 + 200 = 300\n"
          ]
        }
      ]
    },
    {
      "cell_type": "code",
      "source": [
        "num1 = 100\n",
        "num2 = 200\n",
        "result = num1 + num2\n",
        "print(num1, \"+\", num2, \"=\", result)\n",
        "\n",
        "result = num1 - num2\n",
        "print(num1, \"-\", num2, \"=\", result)\n",
        "\n",
        "result = num1 * num2\n",
        "print(num1, \"x\", num2, \"=\", result)\n",
        "\n",
        "result = num1 / num2\n",
        "print(num1, \"/\", num2, \"=\", result)"
      ],
      "metadata": {
        "colab": {
          "base_uri": "https://localhost:8080/"
        },
        "id": "ePmJg1DpTt5q",
        "outputId": "b6813161-8d58-4b8a-8019-73bfd12be3d4"
      },
      "execution_count": null,
      "outputs": [
        {
          "output_type": "stream",
          "name": "stdout",
          "text": [
            "100 + 200 = 300\n",
            "100 - 200 = -100\n",
            "100 x 200 = 20000\n",
            "100 / 200 = 0.5\n"
          ]
        }
      ]
    },
    {
      "cell_type": "code",
      "source": [
        "a = 1234\n",
        "b = \"가나다라\"\n",
        "c = 3.141592\n",
        "d = True\n",
        "print(type(a))\n",
        "print(type(b))\n",
        "print(type(c))\n",
        "print(type(d))\n",
        "a = \"대한민국\"\n",
        "print(a)\n",
        "print(type(a))"
      ],
      "metadata": {
        "colab": {
          "base_uri": "https://localhost:8080/"
        },
        "id": "-4qB7BQTUdoo",
        "outputId": "acf10f88-0438-4006-8ea1-5683227e7596"
      },
      "execution_count": null,
      "outputs": [
        {
          "output_type": "stream",
          "name": "stdout",
          "text": [
            "<class 'int'>\n",
            "<class 'str'>\n",
            "<class 'float'>\n",
            "<class 'bool'>\n",
            "대한민국\n",
            "<class 'str'>\n"
          ]
        }
      ]
    },
    {
      "cell_type": "markdown",
      "source": [
        "### input()"
      ],
      "metadata": {
        "id": "LVnvQBuUVKQY"
      }
    },
    {
      "cell_type": "code",
      "source": [
        "num1 = input(\"숫자를 입력해 주세요: \")\n",
        "print(num1)\n",
        "print(type(num1))"
      ],
      "metadata": {
        "colab": {
          "base_uri": "https://localhost:8080/"
        },
        "id": "8ZtOafPdVNuv",
        "outputId": "bb73bb21-915c-4ec4-fa84-69855539f812"
      },
      "execution_count": null,
      "outputs": [
        {
          "output_type": "stream",
          "name": "stdout",
          "text": [
            "숫자를 입력해 주세요: 100\n",
            "100\n",
            "<class 'str'>\n"
          ]
        }
      ]
    },
    {
      "cell_type": "code",
      "source": [
        "a = int(\"100\")\n",
        "b = int(\"200\")\n",
        "print(a+b)"
      ],
      "metadata": {
        "colab": {
          "base_uri": "https://localhost:8080/"
        },
        "id": "JgXozGeRVx0v",
        "outputId": "cf213e7d-67dc-4a7b-a8b5-6116c3232332"
      },
      "execution_count": null,
      "outputs": [
        {
          "output_type": "stream",
          "name": "stdout",
          "text": [
            "300\n"
          ]
        }
      ]
    },
    {
      "cell_type": "code",
      "source": [
        "a = \"100\"\n",
        "b = \"200\"\n",
        "print(a+b)"
      ],
      "metadata": {
        "colab": {
          "base_uri": "https://localhost:8080/"
        },
        "id": "pXWkPZ6fWBAI",
        "outputId": "81a6f3b2-ce3f-4ed3-eb25-8435d54384df"
      },
      "execution_count": null,
      "outputs": [
        {
          "output_type": "stream",
          "name": "stdout",
          "text": [
            "100200\n"
          ]
        }
      ]
    },
    {
      "cell_type": "code",
      "source": [
        "num1 = int(input(\"숫자1==> \"))\n",
        "num2 = int(input(\"숫자2==> \"))\n",
        "\n",
        "result1 = num1 + num2\n",
        "print(result1)"
      ],
      "metadata": {
        "colab": {
          "base_uri": "https://localhost:8080/"
        },
        "id": "QbiVZQ6dWLf3",
        "outputId": "c0b3e6ae-a3a1-4253-9b71-22b20905d30b"
      },
      "execution_count": null,
      "outputs": [
        {
          "output_type": "stream",
          "name": "stdout",
          "text": [
            "숫자1==> 100\n",
            "숫자2==> 200\n",
            "300\n"
          ]
        }
      ]
    },
    {
      "cell_type": "markdown",
      "source": [
        "## 산술 연산"
      ],
      "metadata": {
        "id": "eIzKZQAXXFwW"
      }
    },
    {
      "cell_type": "code",
      "source": [
        "x = 5\n",
        "y = 2\n",
        "\n",
        "print( x + y)\n",
        "print( x - y)\n",
        "print( x * y)\n",
        "print( x / y)\n",
        "print( x // y)\n",
        "print( x % y)\n",
        "print( x ** y)\n",
        "print( x ** -y)"
      ],
      "metadata": {
        "colab": {
          "base_uri": "https://localhost:8080/"
        },
        "id": "HLubUm3ZXJDu",
        "outputId": "78db4eef-de6f-47c0-e600-e7e974f0c4cd"
      },
      "execution_count": null,
      "outputs": [
        {
          "output_type": "stream",
          "name": "stdout",
          "text": [
            "7\n",
            "3\n",
            "10\n",
            "2.5\n",
            "2\n",
            "1\n",
            "25\n",
            "0.04\n"
          ]
        }
      ]
    },
    {
      "cell_type": "code",
      "source": [
        "# 연결 연산\n",
        "print(\"Hello\" + \"Python\")\n",
        "print(\"Hello\",\"Python\")\n",
        "print(\"Hello\"\"Python\")\n",
        "print(\"Hello\",3)\n",
        "print(\"Hello\"*3)\n",
        "print(\"=\"*20)"
      ],
      "metadata": {
        "colab": {
          "base_uri": "https://localhost:8080/"
        },
        "id": "BbTCvh3FYP8V",
        "outputId": "f0d1ae1c-c816-4e65-fc57-8347c4212986"
      },
      "execution_count": null,
      "outputs": [
        {
          "output_type": "stream",
          "name": "stdout",
          "text": [
            "HelloPython\n",
            "Hello Python\n",
            "HelloPython\n",
            "Hello 3\n",
            "HelloHelloHello\n",
            "====================\n"
          ]
        }
      ]
    },
    {
      "cell_type": "markdown",
      "source": [
        "### 슬라이싱"
      ],
      "metadata": {
        "id": "knyWuoXuY6It"
      }
    },
    {
      "cell_type": "code",
      "source": [
        "#      0123456789\n",
        "a = \"HelloPython\"\n",
        "b = a[1:5]\n",
        "c = a[5:]\n",
        "print(b)\n",
        "print(c)"
      ],
      "metadata": {
        "colab": {
          "base_uri": "https://localhost:8080/"
        },
        "id": "1T3HibehY9MM",
        "outputId": "be3c77f3-5744-431c-a62e-80fa8c257de0"
      },
      "execution_count": null,
      "outputs": [
        {
          "output_type": "stream",
          "name": "stdout",
          "text": [
            "ello\n",
            "Python\n"
          ]
        }
      ]
    },
    {
      "cell_type": "code",
      "source": [
        "a = \"Hello Python\"\n",
        "b = 'Hello' in a\n",
        "c = 'Hi' in a\n",
        "print(b)\n",
        "print(c)\n",
        "d = len(a)\n",
        "print(d)"
      ],
      "metadata": {
        "colab": {
          "base_uri": "https://localhost:8080/"
        },
        "id": "tAN_N5PeZxTc",
        "outputId": "e4e1faa1-7590-45b7-f70d-20fa159be9dc"
      },
      "execution_count": null,
      "outputs": [
        {
          "output_type": "stream",
          "name": "stdout",
          "text": [
            "True\n",
            "False\n",
            "12\n"
          ]
        }
      ]
    },
    {
      "cell_type": "code",
      "source": [
        "# 형식 지정\n",
        "name = \"홍길동\"\n",
        "age = 19\n",
        "score = 95.5\n",
        "print(\"이름: %s, 나이: %d, 점수: %f\" %(name, age, score))"
      ],
      "metadata": {
        "colab": {
          "base_uri": "https://localhost:8080/"
        },
        "id": "SocQEzJ-a2c6",
        "outputId": "9d916c26-2d40-4232-ea7c-e2aca2a0467a"
      },
      "execution_count": null,
      "outputs": [
        {
          "output_type": "stream",
          "name": "stdout",
          "text": [
            "이름: 홍길동, 나이: 19, 점수: 95.500000\n"
          ]
        }
      ]
    },
    {
      "cell_type": "markdown",
      "source": [
        "# 2. 조건문"
      ],
      "metadata": {
        "id": "rPJap5Llb__A"
      }
    },
    {
      "cell_type": "code",
      "source": [
        "a = int(input(\"숫자입력 : \"))\n",
        "if a % 2 == 0:\n",
        "    print(\"짝수\")\n",
        "else:\n",
        "    print(\"홀수\")"
      ],
      "metadata": {
        "colab": {
          "base_uri": "https://localhost:8080/"
        },
        "id": "Uqjj5YaMcDNB",
        "outputId": "26618c48-02c3-430c-d3b5-377e238a8894"
      },
      "execution_count": null,
      "outputs": [
        {
          "output_type": "stream",
          "name": "stdout",
          "text": [
            "숫자입력 : 15\n",
            "홀수\n"
          ]
        }
      ]
    },
    {
      "cell_type": "code",
      "source": [
        "# 로또 번호 생성\n",
        "\n",
        "import random\n",
        "\n",
        "def generate_lotto_numbers():\n",
        "    return random.sample(range(1, 46), 6)\n",
        "\n",
        "lotto = generate_lotto_numbers()\n",
        "print(\"로또번호: {}\".format(lotto))"
      ],
      "metadata": {
        "colab": {
          "base_uri": "https://localhost:8080/"
        },
        "id": "0nDuY-MkfjEF",
        "outputId": "ab12b1f3-e732-4900-b6f8-383751033b58"
      },
      "execution_count": null,
      "outputs": [
        {
          "output_type": "stream",
          "name": "stdout",
          "text": [
            "로또번호: [8, 2, 26, 35, 40, 45]\n"
          ]
        }
      ]
    },
    {
      "cell_type": "markdown",
      "source": [],
      "metadata": {
        "id": "9mTIuet2e1o-"
      }
    },
    {
      "cell_type": "markdown",
      "source": [
        "# 3. WEB 크롤링"
      ],
      "metadata": {
        "id": "WxqPox_ge22L"
      }
    },
    {
      "cell_type": "code",
      "source": [
        "# 네이버 뉴스 사이트 가져오기\n",
        "import requests\n",
        "from bs4 import BeautifulSoup as bs\n",
        "\n",
        "head={'User-Agent': 'Mozilla/5.0 (Windows NT 10.0; Win64; x64) AppleWebKit/537.36 (KHTML, like Gecko) Chrome/102.0.0.0 Safari/537.36'}\n",
        "\n",
        "req = requests.get(\"https://news.naver.com/main/main.naver?mode=LSD&mid=shm&sid1=100\", headers=head)\n",
        "\n",
        "req.status_code\n",
        "\n",
        "html = req.text\n",
        "soup = bs(html, 'html.parser')\n",
        "# soup"
      ],
      "metadata": {
        "id": "T8zjtIJKe6b6"
      },
      "execution_count": null,
      "outputs": []
    },
    {
      "cell_type": "code",
      "source": [
        "import"
      ],
      "metadata": {
        "id": "ickUSu4eiA9n"
      },
      "execution_count": null,
      "outputs": []
    }
  ]
}